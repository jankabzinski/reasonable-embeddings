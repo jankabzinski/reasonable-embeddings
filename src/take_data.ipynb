{
 "cells": [
  {
   "cell_type": "code",
   "execution_count": null,
   "metadata": {},
   "outputs": [],
   "source": [
    "dataset_path = '../local/out/dataset/sub-100.json'\n",
    "import json\n",
    "with open(dataset_path) as f:\n",
    "    dataset = json.load(f)\n",
    "dataset[\"train_queries\"] = [lista for lista in dataset[\"train_queries\"]  if any(isinstance(element, str) and 'not' in element for element in lista)]\n",
    "\n",
    "queries_with_not = [query for query in queries if 3 in query]\n",
    "y_with_not = [label for query, label in zip(queries, y_te) if 3 in query]\n",
    "idx_not = [0]*len(y_with_not)\n",
    "with T.no_grad():\n",
    "    reasoner.eval()\n",
    "    loss_on_nots, true_labels, pred_labels = eval_batch(reasoner.head, [reasoner.embs], queries_with_not, y_with_not, idx_not)"
   ]
  }
 ],
 "metadata": {
  "kernelspec": {
   "display_name": "reasoner",
   "language": "python",
   "name": "python3"
  },
  "language_info": {
   "codemirror_mode": {
    "name": "ipython",
    "version": 3
   },
   "file_extension": ".py",
   "mimetype": "text/x-python",
   "name": "python",
   "nbconvert_exporter": "python",
   "pygments_lexer": "ipython3",
   "version": "3.9.19"
  }
 },
 "nbformat": 4,
 "nbformat_minor": 2
}
