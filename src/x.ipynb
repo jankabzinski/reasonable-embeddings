{
 "cells": [
  {
   "cell_type": "code",
   "execution_count": 2,
   "metadata": {},
   "outputs": [
    {
     "name": "stdout",
     "output_type": "stream",
     "text": [
      "loss:  tensor(0.3842, grad_fn=<MseLossBackward0>)\n",
      "loss2:  tensor(0.5851, grad_fn=<MseLossBackward0>)\n",
      "loss:  tensor(0.0340, grad_fn=<MseLossBackward0>)\n",
      "loss2:  tensor(0.0523, grad_fn=<MseLossBackward0>)\n",
      "loss:  tensor(0.0301, grad_fn=<MseLossBackward0>)\n",
      "loss2:  tensor(0.0261, grad_fn=<MseLossBackward0>)\n",
      "loss:  tensor(0.0408, grad_fn=<MseLossBackward0>)\n",
      "loss2:  tensor(0.0179, grad_fn=<MseLossBackward0>)\n",
      "loss:  tensor(0.0205, grad_fn=<MseLossBackward0>)\n",
      "loss2:  tensor(0.0059, grad_fn=<MseLossBackward0>)\n",
      "loss:  tensor(1.2948e-06, grad_fn=<MseLossBackward0>)\n",
      "loss2:  tensor(0.0003, grad_fn=<MseLossBackward0>)\n"
     ]
    }
   ],
   "source": [
    "import numpy as np\n",
    "import pandas as pd\n",
    "import torch as T\n",
    "import torch.nn.functional as F\n",
    "import torch.nn as nn\n",
    "from sklearn import metrics\n",
    "not_nn = nn.Linear(10, 10, bias=False)\n",
    "not_nn2 = nn.Linear(10, 10)\n",
    "\n",
    "\n",
    "optimizer = T.optim.AdamW(not_nn.parameters(), 0.0001)\n",
    "optimizer2 = T.optim.AdamW(not_nn2.parameters(), 0.0001)\n",
    "for i in range(30000):\n",
    "    optimizer.zero_grad()\n",
    "    optimizer2.zero_grad()\n",
    "    input1 = T.rand(10)\n",
    "\n",
    "    loss = (F.mse_loss(input1, not_nn(not_nn(input1))))\n",
    "    loss2 = (F.mse_loss(input1, not_nn2(not_nn2(input1))))\n",
    "\n",
    "\n",
    "    if i % 5000==0:\n",
    "        print(\"loss: \", loss)\n",
    "        print('loss2: ',loss2)\n",
    "    loss.backward()\n",
    "    loss2.backward()\n",
    "    optimizer.step()\n",
    "    optimizer2.step()"
   ]
  },
  {
   "cell_type": "code",
   "execution_count": 4,
   "metadata": {},
   "outputs": [
    {
     "name": "stdout",
     "output_type": "stream",
     "text": [
      "loss:  tensor(6.7630e-10, grad_fn=<MseLossBackward0>)\n",
      "loss2:  tensor(7.5195e-06, grad_fn=<MseLossBackward0>)\n",
      "loss:  tensor(1.9993e-09, grad_fn=<MseLossBackward0>)\n",
      "loss2:  tensor(9.1545e-09, grad_fn=<MseLossBackward0>)\n",
      "loss:  tensor(1.9220e-09, grad_fn=<MseLossBackward0>)\n",
      "loss2:  tensor(1.5145e-07, grad_fn=<MseLossBackward0>)\n",
      "loss:  tensor(4.8292e-10, grad_fn=<MseLossBackward0>)\n",
      "loss2:  tensor(2.9325e-08, grad_fn=<MseLossBackward0>)\n",
      "loss:  tensor(2.9022e-09, grad_fn=<MseLossBackward0>)\n",
      "loss2:  tensor(4.1875e-09, grad_fn=<MseLossBackward0>)\n",
      "loss:  tensor(8.0090e-10, grad_fn=<MseLossBackward0>)\n",
      "loss2:  tensor(2.8130e-10, grad_fn=<MseLossBackward0>)\n"
     ]
    }
   ],
   "source": [
    "optimizer = T.optim.AdamW(not_nn.parameters(), 0.0001)\n",
    "optimizer2 = T.optim.AdamW(not_nn2.parameters(), 0.0001)\n",
    "for i in range(30000):\n",
    "    optimizer.zero_grad()\n",
    "    optimizer2.zero_grad()\n",
    "    input1 = T.rand(10)\n",
    "\n",
    "    loss = (F.mse_loss(input1, not_nn(not_nn(input1))))\n",
    "    loss2 = (F.mse_loss(input1, not_nn2(not_nn2(input1))))\n",
    "\n",
    "\n",
    "    if i % 5000==0:\n",
    "        print(\"loss: \", loss)\n",
    "        print('loss2: ',loss2)\n",
    "    loss.backward()\n",
    "    loss2.backward()\n",
    "    optimizer.step()\n",
    "    optimizer2.step()"
   ]
  },
  {
   "cell_type": "code",
   "execution_count": 5,
   "metadata": {},
   "outputs": [
    {
     "data": {
      "text/plain": [
       "Parameter containing:\n",
       "tensor([-0.0112, -0.0785, -0.1191,  0.1849,  0.0342, -0.0549, -0.1258,  0.0071,\n",
       "         0.0220,  0.1525], requires_grad=True)"
      ]
     },
     "execution_count": 5,
     "metadata": {},
     "output_type": "execute_result"
    }
   ],
   "source": []
  }
 ],
 "metadata": {
  "kernelspec": {
   "display_name": "reasoner",
   "language": "python",
   "name": "python3"
  },
  "language_info": {
   "codemirror_mode": {
    "name": "ipython",
    "version": 3
   },
   "file_extension": ".py",
   "mimetype": "text/x-python",
   "name": "python",
   "nbconvert_exporter": "python",
   "pygments_lexer": "ipython3",
   "version": "3.9.19"
  }
 },
 "nbformat": 4,
 "nbformat_minor": 2
}
