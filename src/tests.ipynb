{
 "cells": [
  {
   "cell_type": "code",
   "execution_count": 1,
   "id": "bb3f4ea9",
   "metadata": {},
   "outputs": [
    {
     "name": "stdout",
     "output_type": "stream",
     "text": [
      "/home/max/Documents/remb\n"
     ]
    }
   ],
   "source": [
    "cd .."
   ]
  },
  {
   "cell_type": "code",
   "execution_count": 2,
   "id": "c8e56584",
   "metadata": {},
   "outputs": [],
   "source": [
    "import pandas as pd\n",
    "from scipy.stats import ttest_rel\n",
    "from statsmodels.stats.multitest import multipletests"
   ]
  },
  {
   "cell_type": "code",
   "execution_count": 3,
   "id": "d7a6d0d9",
   "metadata": {},
   "outputs": [],
   "source": [
    "def read_grouped_results(path, run=None):\n",
    "    df = pd.read_csv(path)\n",
    "    if run is not None: df = df[df.run == run]\n",
    "    df = df[df.epoch == df.epoch.max()]\n",
    "    return df.drop(columns='epoch onto run elapsed'.split()).reset_index(drop=True)\n",
    "\n",
    "def paired_test(metrics1, metrics2, *, alpha):\n",
    "    assert len(metrics1) == len(metrics2)\n",
    "    test = ttest_rel(metrics1, metrics2, axis=0, alternative='two-sided')\n",
    "    reject, pvalue_corr, _, alpha_corr = multipletests(test.pvalue, method='holm', alpha=alpha)\n",
    "    result =  pd.DataFrame(dict(metric=metrics1.columns, tstatistic=test.statistic, pvalue=test.pvalue, reject_null=test.pvalue < alpha, pvalue_corr=pvalue_corr, reject_null_corr=reject))\n",
    "    return result, alpha_corr\n",
    "\n",
    "alpha = 0.05"
   ]
  },
  {
   "cell_type": "code",
   "execution_count": 4,
   "id": "f3bb2fdf",
   "metadata": {},
   "outputs": [
    {
     "name": "stdout",
     "output_type": "stream",
     "text": [
      "metrics (relaxed reasoner; synthetic data set)\n",
      "       acc        f1      prec    recall   roc_auc    pr_auc\n",
      "0   0.9580  0.886792  0.976261  0.812346  0.970268  0.941187\n",
      "1   0.9465  0.875437  0.961637  0.803419  0.985810  0.965872\n",
      "2   0.9675  0.900154  0.986532  0.827684  0.974260  0.954037\n",
      "3   0.9370  0.874502  0.940043  0.817505  0.970542  0.947574\n",
      "4   0.9620  0.907990  0.976562  0.848416  0.990079  0.974268\n",
      "5   0.9845  0.959157  1.000000  0.921519  0.997789  0.992763\n",
      "6   0.9715  0.916053  0.993610  0.849727  0.990277  0.974060\n",
      "7   0.9635  0.909542  0.978667  0.849537  0.987917  0.972060\n",
      "8   0.9510  0.882494  0.943590  0.828829  0.984789  0.962724\n",
      "9   0.9620  0.883077  0.976190  0.806180  0.984752  0.956592\n",
      "10  0.9615  0.928105  0.982213  0.879646  0.989363  0.981836\n",
      "11  0.9695  0.911466  0.969136  0.860274  0.992495  0.975054\n",
      "12  0.9670  0.931677  0.984683  0.884086  0.984247  0.973529\n",
      "13  0.9315  0.853476  0.921478  0.794821  0.972233  0.940800\n",
      "14  0.9420  0.846966  0.972727  0.750000  0.971169  0.938032\n",
      "15  0.9595  0.909295  0.966667  0.858351  0.984377  0.969149\n",
      "16  0.9400  0.832402  0.955128  0.737624  0.974032  0.932594\n",
      "17  0.9770  0.947964  0.990544  0.908894  0.995136  0.989855\n",
      "18  0.9520  0.853659  0.962199  0.767123  0.983359  0.949968\n",
      "19  0.9680  0.919395  0.989160  0.858824  0.990188  0.980508\n",
      "\n",
      "metrics (restricted reasoner; synthetic data set)\n",
      "       acc        f1      prec    recall   roc_auc    pr_auc\n",
      "0   0.9780  0.942857  0.994521  0.896296  0.992497  0.984241\n",
      "1   0.9510  0.889640  0.940476  0.844017  0.982161  0.962325\n",
      "2   0.9660  0.896341  0.973510  0.830508  0.989787  0.966849\n",
      "3   0.9335  0.865521  0.946903  0.797020  0.969094  0.945366\n",
      "4   0.9710  0.930952  0.982412  0.884615  0.990988  0.981050\n",
      "5   0.9815  0.951252  0.991758  0.913924  0.995899  0.988196\n",
      "6   0.9735  0.923077  0.984520  0.868852  0.987728  0.966123\n",
      "7   0.9715  0.929889  0.992126  0.875000  0.991991  0.980358\n",
      "8   0.9585  0.901775  0.950125  0.858108  0.983939  0.964914\n",
      "9   0.9550  0.861538  0.952381  0.786517  0.978008  0.941067\n",
      "10  0.9740  0.952118  0.992322  0.915044  0.989870  0.984900\n",
      "11  0.9700  0.912281  0.978056  0.854795  0.987392  0.966604\n",
      "12  0.9650  0.927686  0.978214  0.882122  0.988171  0.978205\n",
      "13  0.9230  0.835118  0.902778  0.776892  0.966193  0.929545\n",
      "14  0.9605  0.900378  0.978082  0.834112  0.983319  0.963197\n",
      "15  0.9575  0.903519  0.975490  0.841438  0.983413  0.965339\n",
      "16  0.9435  0.847914  0.929204  0.779703  0.969790  0.933300\n",
      "17  0.9725  0.936999  0.992718  0.887202  0.988033  0.978658\n",
      "18  0.9540  0.861027  0.959596  0.780822  0.970825  0.933117\n",
      "19  0.9620  0.903061  0.986072  0.832941  0.987553  0.972116\n",
      "\n",
      "paired t-test\n",
      "    metric  tstatistic    pvalue  reject_null  pvalue_corr  reject_null_corr\n",
      "0      acc   -1.392683  0.179800        False     0.764053             False\n",
      "1       f1   -1.489339  0.152811        False     0.764053             False\n",
      "2     prec    0.783426  0.443034        False     1.000000             False\n",
      "3   recall   -1.849036  0.080074        False     0.480446             False\n",
      "4  roc_auc   -0.097192  0.923592        False     1.000000             False\n",
      "5   pr_auc   -0.204917  0.839816        False     1.000000             False\n"
     ]
    }
   ],
   "source": [
    "relaxed = read_grouped_results('local/out/exp/20220715T194328/test-grouped.csv', run='trained reasoner')\n",
    "restricted = read_grouped_results('local/out/exp/20220715T194304/test-grouped.csv', run='trained reasoner')\n",
    "\n",
    "print('metrics (relaxed reasoner; synthetic data set)'); print(relaxed); print()\n",
    "print('metrics (restricted reasoner; synthetic data set)'); print(restricted); print()\n",
    "#print('difference'); print(relaxed - restricted); print()\n",
    "print('paired t-test'); print(paired_test(relaxed, restricted, alpha=alpha)[0])"
   ]
  },
  {
   "cell_type": "code",
   "execution_count": 5,
   "id": "484d8dbc",
   "metadata": {},
   "outputs": [
    {
     "name": "stdout",
     "output_type": "stream",
     "text": [
      "metrics (unfrozen)\n",
      "               acc        f1      prec    recall   roc_auc    pr_auc\n",
      "wildlife  0.963875  0.846603  0.869684  0.824716  0.980259  0.921401\n",
      "demacare  0.995563  0.944919  0.998361  0.896907  0.997942  0.977227\n",
      "stuff     0.990313  0.978880  0.985324  0.972519  0.996959  0.992135\n",
      "swo       0.963469  0.937683  0.917484  0.958792  0.992886  0.980843\n",
      "ontodt    0.975250  0.851463  0.918656  0.793429  0.982054  0.918722\n",
      "pizza     0.970969  0.964665  0.965362  0.963968  0.993978  0.991950\n",
      "\n",
      "metrics (pretrained)\n",
      "               acc        f1      prec    recall   roc_auc    pr_auc\n",
      "wildlife  0.942813  0.744056  0.810481  0.687694  0.951796  0.836294\n",
      "demacare  0.995594  0.945328  0.998362  0.897644  0.997655  0.976188\n",
      "stuff     0.965812  0.925961  0.925836  0.926086  0.983099  0.940981\n",
      "swo       0.955844  0.923444  0.917923  0.929031  0.986082  0.963994\n",
      "ontodt    0.967250  0.796030  0.898112  0.714785  0.970425  0.882810\n",
      "pizza     0.932844  0.917986  0.921750  0.914253  0.976780  0.970024\n",
      "\n",
      "paired t-test\n",
      "    metric  tstatistic    pvalue  reject_null  pvalue_corr  reject_null_corr\n",
      "0      acc    2.899925  0.033794         True     0.138205             False\n",
      "1       f1    3.074533  0.027641         True     0.138205             False\n",
      "2     prec    2.693175  0.043135         True     0.138205             False\n",
      "3   recall    2.951644  0.031825         True     0.138205             False\n",
      "4  roc_auc    3.332604  0.020720         True     0.124318             False\n",
      "5   pr_auc    2.908921  0.033442         True     0.138205             False\n",
      "\n"
     ]
    }
   ],
   "source": [
    "unfrozen = read_grouped_results('local/out/exp/20220719T213232/Unfrozen reasoner head test by onto.csv')\n",
    "pretrained = read_grouped_results('local/out/exp/20220719T213232/Frozen pre-trained reasoner head test by onto.csv')\n",
    "index = 'wildlife demacare stuff swo ontodt pizza'.split()\n",
    "unfrozen.index = pretrained.index = index\n",
    "\n",
    "print('metrics (unfrozen)'); print(unfrozen); print()\n",
    "print('metrics (pretrained)'); print(pretrained); print()\n",
    "#print('difference'); print(unfrozen - pretrained); print()\n",
    "print('paired t-test'); print(paired_test(unfrozen, pretrained, alpha=alpha)[0]); print()"
   ]
  },
  {
   "cell_type": "code",
   "execution_count": 6,
   "id": "f9bb92d1",
   "metadata": {},
   "outputs": [
    {
     "name": "stdout",
     "output_type": "stream",
     "text": [
      "paired t-test\n",
      "    metric  tstatistic        pvalue  reject_null   pvalue_corr  \\\n",
      "0      acc   79.140439  2.106386e-25         True  1.263832e-24   \n",
      "1       f1   44.693393  1.030833e-20         True  4.123330e-20   \n",
      "2     prec   75.482185  5.162788e-25         True  2.581394e-24   \n",
      "3   recall  -13.326150  4.326527e-11         True  4.326527e-11   \n",
      "4  roc_auc   37.247267  3.167875e-19         True  9.503626e-19   \n",
      "5   pr_auc   36.606602  4.385900e-19         True  9.503626e-19   \n",
      "\n",
      "   reject_null_corr  \n",
      "0              True  \n",
      "1              True  \n",
      "2              True  \n",
      "3              True  \n",
      "4              True  \n",
      "5              True  \n"
     ]
    }
   ],
   "source": [
    "trained = read_grouped_results('local/out/exp/20220715T194304/test-grouped.csv', run='trained reasoner')\n",
    "random = read_grouped_results('local/out/exp/20220715T194304/test-grouped.csv', run='random reasoner')\n",
    "\n",
    "#print('difference'); print(relaxed - restricted); print()\n",
    "print('paired t-test'); print(paired_test(trained, random, alpha=alpha)[0])"
   ]
  },
  {
   "cell_type": "code",
   "execution_count": 7,
   "id": "4bbd3bc8",
   "metadata": {},
   "outputs": [
    {
     "name": "stdout",
     "output_type": "stream",
     "text": [
      "paired t-test\n",
      "    metric  tstatistic        pvalue  reject_null   pvalue_corr  \\\n",
      "0      acc   17.888024  2.396874e-13         True  9.587498e-13   \n",
      "1       f1   19.519654  4.952308e-14         True  2.476154e-13   \n",
      "2     prec   20.133847  2.820985e-14         True  1.692591e-13   \n",
      "3   recall   10.941499  1.212147e-09         True  1.212147e-09   \n",
      "4  roc_auc   16.058313  1.649393e-12         True  4.948179e-12   \n",
      "5   pr_auc   13.576316  3.137394e-11         True  6.274789e-11   \n",
      "\n",
      "   reject_null_corr  \n",
      "0              True  \n",
      "1              True  \n",
      "2              True  \n",
      "3              True  \n",
      "4              True  \n",
      "5              True  \n"
     ]
    }
   ],
   "source": [
    "trained = read_grouped_results('local/out/exp/20220715T194328/test-grouped.csv', run='trained reasoner')\n",
    "random = read_grouped_results('local/out/exp/20220715T194328/test-grouped.csv', run='random reasoner')\n",
    "\n",
    "#print('difference'); print(relaxed - restricted); print()\n",
    "print('paired t-test'); print(paired_test(trained, random, alpha=alpha)[0])"
   ]
  },
  {
   "cell_type": "code",
   "execution_count": null,
   "id": "041c152b",
   "metadata": {},
   "outputs": [],
   "source": []
  }
 ],
 "metadata": {
  "kernelspec": {
   "display_name": "Python [conda env:ml]",
   "language": "python",
   "name": "conda-env-ml-py"
  },
  "language_info": {
   "codemirror_mode": {
    "name": "ipython",
    "version": 3
   },
   "file_extension": ".py",
   "mimetype": "text/x-python",
   "name": "python",
   "nbconvert_exporter": "python",
   "pygments_lexer": "ipython3",
   "version": "3.9.7"
  }
 },
 "nbformat": 4,
 "nbformat_minor": 5
}
