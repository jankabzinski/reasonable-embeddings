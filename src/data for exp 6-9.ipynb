{
 "cells": [
  {
   "cell_type": "code",
   "execution_count": 1,
   "id": "229c6875",
   "metadata": {},
   "outputs": [
    {
     "name": "stdout",
     "output_type": "stream",
     "text": [
      "/home/janek/mag/reasonable-embeddings\n"
     ]
    }
   ],
   "source": [
    "cd .."
   ]
  },
  {
   "cell_type": "code",
   "execution_count": 2,
   "id": "4534b312",
   "metadata": {},
   "outputs": [],
   "source": [
    "import numpy as np\n",
    "import pandas as pd\n",
    "import torch as T\n",
    "import torch.nn.functional as F\n",
    "import torch.nn as nn\n",
    "from sklearn import metrics\n",
    "from sklearn.decomposition import PCA\n",
    "from tqdm import tqdm\n",
    "\n",
    "from src.reasoner_mod import *\n",
    "from src.simplefact import *\n",
    "from src.simplefact.syntax import *\n",
    "from src.reasoner import *\n",
    "from src.generate import *\n",
    "from src.utils import *\n",
    "from src.vis import *\n",
    "import random\n",
    "seed = 2022\n",
    "ts = timestr()"
   ]
  },
  {
   "cell_type": "code",
   "execution_count": 3,
   "id": "dba9789c",
   "metadata": {},
   "outputs": [
    {
     "name": "stdout",
     "output_type": "stream",
     "text": [
      "african-wildlife.ofn \t <Onto 30 concepts, 5 roles, 49 axioms>\n",
      "exchangemodel-noimport.ofn \t <Onto 260 concepts, 53 roles, 369 axioms>\n",
      "stuff-noimport.ofn \t <Onto 192 concepts, 46 roles, 314 axioms>\n"
     ]
    },
    {
     "name": "stderr",
     "output_type": "stream",
     "text": [
      "FaCT++.Kernel: Reasoner for the SROIQ(D) Description Logic, 64-bit\n",
      "Copyright (C) Dmitry Tsarkov, 2002-2017. Version 1.7.0-SNAPSHOT (01 January 2017)\n"
     ]
    },
    {
     "name": "stdout",
     "output_type": "stream",
     "text": [
      "swo-noimport.ofn \t <Onto 4067 concepts, 39 roles, 7140 axioms>\n",
      "ontodt-noimport.ofn \t <Onto 405 concepts, 8 roles, 921 axioms>\n",
      "pizza.ofn \t <Onto 99 concepts, 4 roles, 287 axioms>\n"
     ]
    }
   ],
   "source": [
    "onto_paths = 'african-wildlife.ofn exchangemodel-noimport.ofn stuff-noimport.ofn swo-noimport.ofn ontodt-noimport.ofn pizza.ofn'.split()\n",
    "onto_names = 'wildlife demacare stuff swo ontodt pizza'.split()\n",
    "ontos = []\n",
    "facts = []\n",
    "for path in onto_paths:\n",
    "    onto = load_ofn('local/out/dataset/' + path, silent=True)\n",
    "    fact = Reasoner.from_onto(onto, timeout=None)\n",
    "    facts.append(fact)\n",
    "    ontos.append(onto)\n",
    "    print(path, '\\t', onto)"
   ]
  },
  {
   "cell_type": "code",
   "execution_count": 4,
   "id": "e33e534b",
   "metadata": {},
   "outputs": [
    {
     "name": "stdout",
     "output_type": "stream",
     "text": [
      "wildlife - balance 0.0623\n",
      "demacare - balance 0.0303\n",
      "stuff - balance 0.2253\n",
      "swo - balance 0.2147\n",
      "ontodt - balance 0.0457\n",
      "pizza - balance 0.3677\n"
     ]
    }
   ],
   "source": [
    "rng = np.random.default_rng(seed)\n",
    "idx_te, X_te, y_te = [], [], []\n",
    "for i, (onto, fact, onto_name) in enumerate(zip(ontos, facts, onto_names)):\n",
    "    X_te_onto, y_te_onto = make_dataset(onto, fact, rng, n_queries=3000, min_query_size=15, max_query_size=20)\n",
    "    idx_te += [i]*len(X_te_onto)\n",
    "    print(onto_name, '- balance', np.round(np.mean(y_te_onto), 4))\n",
    "    X_te += X_te_onto\n",
    "    y_te += y_te_onto\n",
    "    \n",
    "data_te = idx_te, X_te, y_te = jointshuffle(rng, idx_te, X_te, y_te)"
   ]
  },
  {
   "cell_type": "code",
   "execution_count": 5,
   "id": "7c5908a6",
   "metadata": {},
   "outputs": [
    {
     "name": "stdout",
     "output_type": "stream",
     "text": [
      "wildlife - balance 0.0637\n",
      "demacare - balance 0.0337\n",
      "stuff - balance 0.2313\n",
      "swo - balance 0.201\n",
      "ontodt - balance 0.0463\n",
      "pizza - balance 0.3543\n"
     ]
    }
   ],
   "source": [
    "idx_vl, X_vl, y_vl = [], [], []\n",
    "for i, (onto, fact, onto_name) in enumerate(zip(ontos, facts, onto_names)):\n",
    "    X_vl_onto, y_vl_onto = make_dataset(onto, fact, rng, n_queries=3000, min_query_size=15, max_query_size=20)\n",
    "    idx_vl += [i]*len(X_vl_onto)\n",
    "    print(onto_name, '- balance', np.round(np.mean(y_vl_onto), 4))\n",
    "    X_vl += X_vl_onto\n",
    "    y_vl += y_vl_onto\n",
    "    \n",
    "data_vl = idx_vl, X_vl, y_vl = jointshuffle(rng, idx_vl, X_vl, y_vl)"
   ]
  },
  {
   "cell_type": "code",
   "execution_count": 6,
   "id": "8f900945",
   "metadata": {},
   "outputs": [
    {
     "name": "stdout",
     "output_type": "stream",
     "text": [
      "wildlife - balance 0.0753\n",
      "demacare - balance 0.0368\n",
      "stuff - balance 0.231\n",
      "swo - balance 0.2389\n",
      "ontodt - balance 0.0551\n",
      "pizza - balance 0.3744\n",
      "wildlife - balance: 0.0623\n",
      "demacare - balance: 0.0303\n",
      "stuff - balance: 0.2253\n",
      "swo - balance: 0.2146\n",
      "ontodt - balance: 0.0456\n",
      "pizza - balance: 0.3676\n"
     ]
    }
   ],
   "source": [
    "idx_tr, X_tr, y_tr = [], [], []\n",
    "for i, (onto, fact, onto_name) in enumerate(zip(ontos, facts, onto_names)):\n",
    "    X_tr_onto, y_tr_onto = make_dataset(onto, fact, rng, 16000, 10, 14)\n",
    "    idx_tr += [i]*len(X_tr_onto)\n",
    "    print(onto_name, '- balance', np.round(np.mean(y_tr_onto), 4))\n",
    "    X_tr += X_tr_onto\n",
    "    y_tr += y_tr_onto\n",
    "\n",
    "data_tr = reduce_dataset([idx_tr, X_tr, y_tr], len(ontos), 14000, data_te)\n",
    "idx_tr, X_tr, y_tr = data_tr[0], data_tr[1], data_tr[2]\n",
    "\n",
    "mean_values = {}\n",
    "for i in set(idx_tr):\n",
    "    y_values = [y for idx, y in zip(idx_tr, y_tr) if idx == i]\n",
    "    mean_values[i] = np.mean(y_values)\n",
    "\n",
    "for i in sorted(mean_values):\n",
    "    print(f\"{onto_names[i]} - balance: {mean_values[i]:.4f}\")\n",
    "\n",
    "data_tr = idx_tr, X_tr, y_tr = jointshuffle(rng, idx_tr, X_tr, y_tr)"
   ]
  },
  {
   "cell_type": "code",
   "execution_count": 14,
   "id": "60d592a7",
   "metadata": {},
   "outputs": [],
   "source": [
    "save_test_dataset(dataset=[ontos, data_tr, data_vl, data_te],path='local/out/dataset/dataExp6-9.json')"
   ]
  }
 ],
 "metadata": {
  "kernelspec": {
   "display_name": "reasoner",
   "language": "python",
   "name": "python3"
  },
  "language_info": {
   "codemirror_mode": {
    "name": "ipython",
    "version": 3
   },
   "file_extension": ".py",
   "mimetype": "text/x-python",
   "name": "python",
   "nbconvert_exporter": "python",
   "pygments_lexer": "ipython3",
   "version": "3.9.19"
  }
 },
 "nbformat": 4,
 "nbformat_minor": 5
}
